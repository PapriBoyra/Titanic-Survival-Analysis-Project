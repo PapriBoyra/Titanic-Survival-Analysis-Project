{
  "nbformat": 4,
  "nbformat_minor": 0,
  "metadata": {
    "colab": {
      "provenance": [],
      "toc_visible": true
    },
    "kernelspec": {
      "name": "python3",
      "display_name": "Python 3"
    },
    "language_info": {
      "name": "python"
    }
  },
  "cells": [
    {
      "cell_type": "markdown",
      "source": [
        "#Titanic Survival Analysis\n",
        "\n",
        "This Titanic survival analysis assignment provides a great opportunity to apply the Python concepts you've been learning, including NumPy, Pandas, and data visualization. By working with real-world Titanic passenger data, you’ll be able to use your skills to explore patterns, analyze survival factors, and create insightful visualizations.\n",
        "\n",
        "Titanic survival analysis involves examining historical data about passengers aboard the RMS Titanic and understanding the factors that influenced their likelihood of survival. This type of analysis helps you explore relationships between variables such as age, sex, class, and fare, and how they impacted survival outcomes during the disaster.\n",
        "\n",
        "This hands-on exercise encourages you to independently apply the techniques you've learned while also conducting your own research to solve problems. Along the way, you can use resources like ChatGPT to seek guidance if needed. This approach reinforces your data analysis skills and helps build the critical ability to solve real-world problems in a self-directed manner."
      ],
      "metadata": {
        "id": "3M3tQfO32EuT"
      }
    },
    {
      "cell_type": "markdown",
      "source": [
        "## Problem Statement\n",
        "\n",
        "Analyze and visualize the Titanic passenger data to gain insights into survival factors. Manipulate the dataset, calculate, and visualize key survival metrics such as survival rates, passenger demographics, and class-based survival patterns, which are crucial in understanding the factors that influenced survival during the disaster."
      ],
      "metadata": {
        "id": "q1ckttzi2-PH"
      }
    },
    {
      "cell_type": "code",
      "source": [
        "import pandas as pd\n",
        "import numpy as np\n",
        "import matplotlib.pyplot as plt\n",
        "import seaborn as sns"
      ],
      "metadata": {
        "id": "2Hlpm2Hl2FLF"
      },
      "execution_count": null,
      "outputs": []
    },
    {
      "cell_type": "code",
      "execution_count": null,
      "metadata": {
        "colab": {
          "base_uri": "https://localhost:8080/",
          "height": 328
        },
        "id": "Ju8gQPFax4w3",
        "outputId": "6e7a66a7-27ba-4543-d904-9c5b60f88446"
      },
      "outputs": [
        {
          "output_type": "execute_result",
          "data": {
            "text/plain": [
              "   PassengerId  Survived  Pclass  \\\n",
              "0            1         0       3   \n",
              "1            2         1       1   \n",
              "2            3         1       3   \n",
              "3            4         1       1   \n",
              "4            5         0       3   \n",
              "\n",
              "                                                Name     Sex   Age  SibSp  \\\n",
              "0                            Braund, Mr. Owen Harris    male  22.0      1   \n",
              "1  Cumings, Mrs. John Bradley (Florence Briggs Th...  female  38.0      1   \n",
              "2                             Heikkinen, Miss. Laina  female  26.0      0   \n",
              "3       Futrelle, Mrs. Jacques Heath (Lily May Peel)  female  35.0      1   \n",
              "4                           Allen, Mr. William Henry    male  35.0      0   \n",
              "\n",
              "   Parch            Ticket     Fare Cabin Embarked  \n",
              "0      0         A/5 21171   7.2500   NaN        S  \n",
              "1      0          PC 17599  71.2833   C85        C  \n",
              "2      0  STON/O2. 3101282   7.9250   NaN        S  \n",
              "3      0            113803  53.1000  C123        S  \n",
              "4      0            373450   8.0500   NaN        S  "
            ],
            "text/html": [
              "\n",
              "  <div id=\"df-815934e5-3623-481a-a7b0-1122d33c898a\" class=\"colab-df-container\">\n",
              "    <div>\n",
              "<style scoped>\n",
              "    .dataframe tbody tr th:only-of-type {\n",
              "        vertical-align: middle;\n",
              "    }\n",
              "\n",
              "    .dataframe tbody tr th {\n",
              "        vertical-align: top;\n",
              "    }\n",
              "\n",
              "    .dataframe thead th {\n",
              "        text-align: right;\n",
              "    }\n",
              "</style>\n",
              "<table border=\"1\" class=\"dataframe\">\n",
              "  <thead>\n",
              "    <tr style=\"text-align: right;\">\n",
              "      <th></th>\n",
              "      <th>PassengerId</th>\n",
              "      <th>Survived</th>\n",
              "      <th>Pclass</th>\n",
              "      <th>Name</th>\n",
              "      <th>Sex</th>\n",
              "      <th>Age</th>\n",
              "      <th>SibSp</th>\n",
              "      <th>Parch</th>\n",
              "      <th>Ticket</th>\n",
              "      <th>Fare</th>\n",
              "      <th>Cabin</th>\n",
              "      <th>Embarked</th>\n",
              "    </tr>\n",
              "  </thead>\n",
              "  <tbody>\n",
              "    <tr>\n",
              "      <th>0</th>\n",
              "      <td>1</td>\n",
              "      <td>0</td>\n",
              "      <td>3</td>\n",
              "      <td>Braund, Mr. Owen Harris</td>\n",
              "      <td>male</td>\n",
              "      <td>22.0</td>\n",
              "      <td>1</td>\n",
              "      <td>0</td>\n",
              "      <td>A/5 21171</td>\n",
              "      <td>7.2500</td>\n",
              "      <td>NaN</td>\n",
              "      <td>S</td>\n",
              "    </tr>\n",
              "    <tr>\n",
              "      <th>1</th>\n",
              "      <td>2</td>\n",
              "      <td>1</td>\n",
              "      <td>1</td>\n",
              "      <td>Cumings, Mrs. John Bradley (Florence Briggs Th...</td>\n",
              "      <td>female</td>\n",
              "      <td>38.0</td>\n",
              "      <td>1</td>\n",
              "      <td>0</td>\n",
              "      <td>PC 17599</td>\n",
              "      <td>71.2833</td>\n",
              "      <td>C85</td>\n",
              "      <td>C</td>\n",
              "    </tr>\n",
              "    <tr>\n",
              "      <th>2</th>\n",
              "      <td>3</td>\n",
              "      <td>1</td>\n",
              "      <td>3</td>\n",
              "      <td>Heikkinen, Miss. Laina</td>\n",
              "      <td>female</td>\n",
              "      <td>26.0</td>\n",
              "      <td>0</td>\n",
              "      <td>0</td>\n",
              "      <td>STON/O2. 3101282</td>\n",
              "      <td>7.9250</td>\n",
              "      <td>NaN</td>\n",
              "      <td>S</td>\n",
              "    </tr>\n",
              "    <tr>\n",
              "      <th>3</th>\n",
              "      <td>4</td>\n",
              "      <td>1</td>\n",
              "      <td>1</td>\n",
              "      <td>Futrelle, Mrs. Jacques Heath (Lily May Peel)</td>\n",
              "      <td>female</td>\n",
              "      <td>35.0</td>\n",
              "      <td>1</td>\n",
              "      <td>0</td>\n",
              "      <td>113803</td>\n",
              "      <td>53.1000</td>\n",
              "      <td>C123</td>\n",
              "      <td>S</td>\n",
              "    </tr>\n",
              "    <tr>\n",
              "      <th>4</th>\n",
              "      <td>5</td>\n",
              "      <td>0</td>\n",
              "      <td>3</td>\n",
              "      <td>Allen, Mr. William Henry</td>\n",
              "      <td>male</td>\n",
              "      <td>35.0</td>\n",
              "      <td>0</td>\n",
              "      <td>0</td>\n",
              "      <td>373450</td>\n",
              "      <td>8.0500</td>\n",
              "      <td>NaN</td>\n",
              "      <td>S</td>\n",
              "    </tr>\n",
              "  </tbody>\n",
              "</table>\n",
              "</div>\n",
              "    <div class=\"colab-df-buttons\">\n",
              "\n",
              "  <div class=\"colab-df-container\">\n",
              "    <button class=\"colab-df-convert\" onclick=\"convertToInteractive('df-815934e5-3623-481a-a7b0-1122d33c898a')\"\n",
              "            title=\"Convert this dataframe to an interactive table.\"\n",
              "            style=\"display:none;\">\n",
              "\n",
              "  <svg xmlns=\"http://www.w3.org/2000/svg\" height=\"24px\" viewBox=\"0 -960 960 960\">\n",
              "    <path d=\"M120-120v-720h720v720H120Zm60-500h600v-160H180v160Zm220 220h160v-160H400v160Zm0 220h160v-160H400v160ZM180-400h160v-160H180v160Zm440 0h160v-160H620v160ZM180-180h160v-160H180v160Zm440 0h160v-160H620v160Z\"/>\n",
              "  </svg>\n",
              "    </button>\n",
              "\n",
              "  <style>\n",
              "    .colab-df-container {\n",
              "      display:flex;\n",
              "      gap: 12px;\n",
              "    }\n",
              "\n",
              "    .colab-df-convert {\n",
              "      background-color: #E8F0FE;\n",
              "      border: none;\n",
              "      border-radius: 50%;\n",
              "      cursor: pointer;\n",
              "      display: none;\n",
              "      fill: #1967D2;\n",
              "      height: 32px;\n",
              "      padding: 0 0 0 0;\n",
              "      width: 32px;\n",
              "    }\n",
              "\n",
              "    .colab-df-convert:hover {\n",
              "      background-color: #E2EBFA;\n",
              "      box-shadow: 0px 1px 2px rgba(60, 64, 67, 0.3), 0px 1px 3px 1px rgba(60, 64, 67, 0.15);\n",
              "      fill: #174EA6;\n",
              "    }\n",
              "\n",
              "    .colab-df-buttons div {\n",
              "      margin-bottom: 4px;\n",
              "    }\n",
              "\n",
              "    [theme=dark] .colab-df-convert {\n",
              "      background-color: #3B4455;\n",
              "      fill: #D2E3FC;\n",
              "    }\n",
              "\n",
              "    [theme=dark] .colab-df-convert:hover {\n",
              "      background-color: #434B5C;\n",
              "      box-shadow: 0px 1px 3px 1px rgba(0, 0, 0, 0.15);\n",
              "      filter: drop-shadow(0px 1px 2px rgba(0, 0, 0, 0.3));\n",
              "      fill: #FFFFFF;\n",
              "    }\n",
              "  </style>\n",
              "\n",
              "    <script>\n",
              "      const buttonEl =\n",
              "        document.querySelector('#df-815934e5-3623-481a-a7b0-1122d33c898a button.colab-df-convert');\n",
              "      buttonEl.style.display =\n",
              "        google.colab.kernel.accessAllowed ? 'block' : 'none';\n",
              "\n",
              "      async function convertToInteractive(key) {\n",
              "        const element = document.querySelector('#df-815934e5-3623-481a-a7b0-1122d33c898a');\n",
              "        const dataTable =\n",
              "          await google.colab.kernel.invokeFunction('convertToInteractive',\n",
              "                                                    [key], {});\n",
              "        if (!dataTable) return;\n",
              "\n",
              "        const docLinkHtml = 'Like what you see? Visit the ' +\n",
              "          '<a target=\"_blank\" href=https://colab.research.google.com/notebooks/data_table.ipynb>data table notebook</a>'\n",
              "          + ' to learn more about interactive tables.';\n",
              "        element.innerHTML = '';\n",
              "        dataTable['output_type'] = 'display_data';\n",
              "        await google.colab.output.renderOutput(dataTable, element);\n",
              "        const docLink = document.createElement('div');\n",
              "        docLink.innerHTML = docLinkHtml;\n",
              "        element.appendChild(docLink);\n",
              "      }\n",
              "    </script>\n",
              "  </div>\n",
              "\n",
              "\n",
              "<div id=\"df-b99f1444-f703-4b56-9582-037d5f0e4e94\">\n",
              "  <button class=\"colab-df-quickchart\" onclick=\"quickchart('df-b99f1444-f703-4b56-9582-037d5f0e4e94')\"\n",
              "            title=\"Suggest charts\"\n",
              "            style=\"display:none;\">\n",
              "\n",
              "<svg xmlns=\"http://www.w3.org/2000/svg\" height=\"24px\"viewBox=\"0 0 24 24\"\n",
              "     width=\"24px\">\n",
              "    <g>\n",
              "        <path d=\"M19 3H5c-1.1 0-2 .9-2 2v14c0 1.1.9 2 2 2h14c1.1 0 2-.9 2-2V5c0-1.1-.9-2-2-2zM9 17H7v-7h2v7zm4 0h-2V7h2v10zm4 0h-2v-4h2v4z\"/>\n",
              "    </g>\n",
              "</svg>\n",
              "  </button>\n",
              "\n",
              "<style>\n",
              "  .colab-df-quickchart {\n",
              "      --bg-color: #E8F0FE;\n",
              "      --fill-color: #1967D2;\n",
              "      --hover-bg-color: #E2EBFA;\n",
              "      --hover-fill-color: #174EA6;\n",
              "      --disabled-fill-color: #AAA;\n",
              "      --disabled-bg-color: #DDD;\n",
              "  }\n",
              "\n",
              "  [theme=dark] .colab-df-quickchart {\n",
              "      --bg-color: #3B4455;\n",
              "      --fill-color: #D2E3FC;\n",
              "      --hover-bg-color: #434B5C;\n",
              "      --hover-fill-color: #FFFFFF;\n",
              "      --disabled-bg-color: #3B4455;\n",
              "      --disabled-fill-color: #666;\n",
              "  }\n",
              "\n",
              "  .colab-df-quickchart {\n",
              "    background-color: var(--bg-color);\n",
              "    border: none;\n",
              "    border-radius: 50%;\n",
              "    cursor: pointer;\n",
              "    display: none;\n",
              "    fill: var(--fill-color);\n",
              "    height: 32px;\n",
              "    padding: 0;\n",
              "    width: 32px;\n",
              "  }\n",
              "\n",
              "  .colab-df-quickchart:hover {\n",
              "    background-color: var(--hover-bg-color);\n",
              "    box-shadow: 0 1px 2px rgba(60, 64, 67, 0.3), 0 1px 3px 1px rgba(60, 64, 67, 0.15);\n",
              "    fill: var(--button-hover-fill-color);\n",
              "  }\n",
              "\n",
              "  .colab-df-quickchart-complete:disabled,\n",
              "  .colab-df-quickchart-complete:disabled:hover {\n",
              "    background-color: var(--disabled-bg-color);\n",
              "    fill: var(--disabled-fill-color);\n",
              "    box-shadow: none;\n",
              "  }\n",
              "\n",
              "  .colab-df-spinner {\n",
              "    border: 2px solid var(--fill-color);\n",
              "    border-color: transparent;\n",
              "    border-bottom-color: var(--fill-color);\n",
              "    animation:\n",
              "      spin 1s steps(1) infinite;\n",
              "  }\n",
              "\n",
              "  @keyframes spin {\n",
              "    0% {\n",
              "      border-color: transparent;\n",
              "      border-bottom-color: var(--fill-color);\n",
              "      border-left-color: var(--fill-color);\n",
              "    }\n",
              "    20% {\n",
              "      border-color: transparent;\n",
              "      border-left-color: var(--fill-color);\n",
              "      border-top-color: var(--fill-color);\n",
              "    }\n",
              "    30% {\n",
              "      border-color: transparent;\n",
              "      border-left-color: var(--fill-color);\n",
              "      border-top-color: var(--fill-color);\n",
              "      border-right-color: var(--fill-color);\n",
              "    }\n",
              "    40% {\n",
              "      border-color: transparent;\n",
              "      border-right-color: var(--fill-color);\n",
              "      border-top-color: var(--fill-color);\n",
              "    }\n",
              "    60% {\n",
              "      border-color: transparent;\n",
              "      border-right-color: var(--fill-color);\n",
              "    }\n",
              "    80% {\n",
              "      border-color: transparent;\n",
              "      border-right-color: var(--fill-color);\n",
              "      border-bottom-color: var(--fill-color);\n",
              "    }\n",
              "    90% {\n",
              "      border-color: transparent;\n",
              "      border-bottom-color: var(--fill-color);\n",
              "    }\n",
              "  }\n",
              "</style>\n",
              "\n",
              "  <script>\n",
              "    async function quickchart(key) {\n",
              "      const quickchartButtonEl =\n",
              "        document.querySelector('#' + key + ' button');\n",
              "      quickchartButtonEl.disabled = true;  // To prevent multiple clicks.\n",
              "      quickchartButtonEl.classList.add('colab-df-spinner');\n",
              "      try {\n",
              "        const charts = await google.colab.kernel.invokeFunction(\n",
              "            'suggestCharts', [key], {});\n",
              "      } catch (error) {\n",
              "        console.error('Error during call to suggestCharts:', error);\n",
              "      }\n",
              "      quickchartButtonEl.classList.remove('colab-df-spinner');\n",
              "      quickchartButtonEl.classList.add('colab-df-quickchart-complete');\n",
              "    }\n",
              "    (() => {\n",
              "      let quickchartButtonEl =\n",
              "        document.querySelector('#df-b99f1444-f703-4b56-9582-037d5f0e4e94 button');\n",
              "      quickchartButtonEl.style.display =\n",
              "        google.colab.kernel.accessAllowed ? 'block' : 'none';\n",
              "    })();\n",
              "  </script>\n",
              "</div>\n",
              "\n",
              "    </div>\n",
              "  </div>\n"
            ],
            "application/vnd.google.colaboratory.intrinsic+json": {
              "type": "dataframe",
              "variable_name": "df",
              "summary": "{\n  \"name\": \"df\",\n  \"rows\": 891,\n  \"fields\": [\n    {\n      \"column\": \"PassengerId\",\n      \"properties\": {\n        \"dtype\": \"number\",\n        \"std\": 257,\n        \"min\": 1,\n        \"max\": 891,\n        \"num_unique_values\": 891,\n        \"samples\": [\n          710,\n          440,\n          841\n        ],\n        \"semantic_type\": \"\",\n        \"description\": \"\"\n      }\n    },\n    {\n      \"column\": \"Survived\",\n      \"properties\": {\n        \"dtype\": \"number\",\n        \"std\": 0,\n        \"min\": 0,\n        \"max\": 1,\n        \"num_unique_values\": 2,\n        \"samples\": [\n          1,\n          0\n        ],\n        \"semantic_type\": \"\",\n        \"description\": \"\"\n      }\n    },\n    {\n      \"column\": \"Pclass\",\n      \"properties\": {\n        \"dtype\": \"number\",\n        \"std\": 0,\n        \"min\": 1,\n        \"max\": 3,\n        \"num_unique_values\": 3,\n        \"samples\": [\n          3,\n          1\n        ],\n        \"semantic_type\": \"\",\n        \"description\": \"\"\n      }\n    },\n    {\n      \"column\": \"Name\",\n      \"properties\": {\n        \"dtype\": \"string\",\n        \"num_unique_values\": 891,\n        \"samples\": [\n          \"Moubarek, Master. Halim Gonios (\\\"William George\\\")\",\n          \"Kvillner, Mr. Johan Henrik Johannesson\"\n        ],\n        \"semantic_type\": \"\",\n        \"description\": \"\"\n      }\n    },\n    {\n      \"column\": \"Sex\",\n      \"properties\": {\n        \"dtype\": \"category\",\n        \"num_unique_values\": 2,\n        \"samples\": [\n          \"female\",\n          \"male\"\n        ],\n        \"semantic_type\": \"\",\n        \"description\": \"\"\n      }\n    },\n    {\n      \"column\": \"Age\",\n      \"properties\": {\n        \"dtype\": \"number\",\n        \"std\": 14.526497332334044,\n        \"min\": 0.42,\n        \"max\": 80.0,\n        \"num_unique_values\": 88,\n        \"samples\": [\n          0.75,\n          22.0\n        ],\n        \"semantic_type\": \"\",\n        \"description\": \"\"\n      }\n    },\n    {\n      \"column\": \"SibSp\",\n      \"properties\": {\n        \"dtype\": \"number\",\n        \"std\": 1,\n        \"min\": 0,\n        \"max\": 8,\n        \"num_unique_values\": 7,\n        \"samples\": [\n          1,\n          0\n        ],\n        \"semantic_type\": \"\",\n        \"description\": \"\"\n      }\n    },\n    {\n      \"column\": \"Parch\",\n      \"properties\": {\n        \"dtype\": \"number\",\n        \"std\": 0,\n        \"min\": 0,\n        \"max\": 6,\n        \"num_unique_values\": 7,\n        \"samples\": [\n          0,\n          1\n        ],\n        \"semantic_type\": \"\",\n        \"description\": \"\"\n      }\n    },\n    {\n      \"column\": \"Ticket\",\n      \"properties\": {\n        \"dtype\": \"string\",\n        \"num_unique_values\": 681,\n        \"samples\": [\n          \"11774\",\n          \"248740\"\n        ],\n        \"semantic_type\": \"\",\n        \"description\": \"\"\n      }\n    },\n    {\n      \"column\": \"Fare\",\n      \"properties\": {\n        \"dtype\": \"number\",\n        \"std\": 49.693428597180905,\n        \"min\": 0.0,\n        \"max\": 512.3292,\n        \"num_unique_values\": 248,\n        \"samples\": [\n          11.2417,\n          51.8625\n        ],\n        \"semantic_type\": \"\",\n        \"description\": \"\"\n      }\n    },\n    {\n      \"column\": \"Cabin\",\n      \"properties\": {\n        \"dtype\": \"category\",\n        \"num_unique_values\": 147,\n        \"samples\": [\n          \"D45\",\n          \"B49\"\n        ],\n        \"semantic_type\": \"\",\n        \"description\": \"\"\n      }\n    },\n    {\n      \"column\": \"Embarked\",\n      \"properties\": {\n        \"dtype\": \"category\",\n        \"num_unique_values\": 3,\n        \"samples\": [\n          \"S\",\n          \"C\"\n        ],\n        \"semantic_type\": \"\",\n        \"description\": \"\"\n      }\n    }\n  ]\n}"
            }
          },
          "metadata": {},
          "execution_count": 3
        }
      ],
      "source": [
        "df = pd.read_csv('Titanic_Dataset.csv')\n",
        "df.head()"
      ]
    },
    {
      "cell_type": "markdown",
      "source": [
        "## Understanding the Data:\n",
        "\n",
        "`PassengerId`: This unique ID for each row doesn't influence the target variable.\n",
        "\n",
        "`Survived`: This is the outcome variable we aim to predict, where:\n",
        "- 1 indicates survival\n",
        "- 0 indicates the passenger did not survive\n",
        "\n",
        "`Pclass(Passenger Class)`: Reflecting the passenger's socio-economic status, this ordinal categorical feature has three levels:\n",
        "- 1 for Upper Class\n",
        "- 2 for Middle Class\n",
        "- 3 for Lower Class\n",
        "\n",
        "`Name`, `Sex`, and `Age` are .\n",
        "\n",
        "`SibSp` represents the total count of a passenger's siblings and spouse aboard.\n",
        "\n",
        "`Parch` counts the passenger's parents and children on board.\n",
        "\n",
        "`Ticket` shows the passenger's ticket number.\n",
        "\n",
        "`Fare` indicates how much the passenger paid for the journey.\n",
        "\n",
        "`Cabin` denotes the passenger's cabin number.\n",
        "\n",
        "`Embarked` indicates the port where the passenger boarded the Titanic, with three categorical options:\n",
        "- C for Cherbourg\n",
        "- Q for Queenstown\n",
        "- S for Southampton\n"
      ],
      "metadata": {
        "id": "zD-4eBCF3ezl"
      }
    },
    {
      "cell_type": "markdown",
      "source": [
        "## MCQ 1: Number of Rows and Columns in the Dataset\n",
        "\n",
        "**Question: How many rows and columns are present in the Titanic dataset?**\n",
        "\n",
        "A) 891 rows and 12 columns\n",
        "\n",
        "B) 714 rows and 10 columns\n",
        "\n",
        "C) 1,000 rows and 15 columns\n",
        "\n",
        "D) 891 rows and 11 columns\n"
      ],
      "metadata": {
        "id": "v1oTZtyd6W_-"
      }
    },
    {
      "cell_type": "code",
      "source": [
        "df.shape"
      ],
      "metadata": {
        "id": "1l-0Lpu-Ag4x",
        "colab": {
          "base_uri": "https://localhost:8080/"
        },
        "outputId": "03a40c94-583b-4a22-dcf3-74398986569f"
      },
      "execution_count": null,
      "outputs": [
        {
          "output_type": "execute_result",
          "data": {
            "text/plain": [
              "(891, 12)"
            ]
          },
          "metadata": {},
          "execution_count": 4
        }
      ]
    },
    {
      "cell_type": "markdown",
      "source": [
        "The shape attribute of the dataframe returns the n.of rows and columns in the dataset"
      ],
      "metadata": {
        "id": "QNomZvp1FSVY"
      }
    },
    {
      "cell_type": "markdown",
      "source": [
        "## MCQ 2: Passenger Class Distribution\n",
        "**Question: How many passengers were in the third class?**\n",
        "\n",
        "A) 491\n",
        "\n",
        "B) 216\n",
        "\n",
        "C) 323\n",
        "\n",
        "D) 184\n"
      ],
      "metadata": {
        "id": "zhDDBNfrvo8k"
      }
    },
    {
      "cell_type": "code",
      "source": [
        "df[df['Pclass']==3].shape"
      ],
      "metadata": {
        "id": "esMkkJulvwyv",
        "colab": {
          "base_uri": "https://localhost:8080/"
        },
        "outputId": "a470a47a-63f5-419a-b01c-6a3f1b080a26"
      },
      "execution_count": null,
      "outputs": [
        {
          "output_type": "execute_result",
          "data": {
            "text/plain": [
              "(491, 12)"
            ]
          },
          "metadata": {},
          "execution_count": 5
        }
      ]
    },
    {
      "cell_type": "markdown",
      "source": [
        "we filter the dataframe with `df['Pclass']==3` with people only in third class and then find the shape to get rows and columns"
      ],
      "metadata": {
        "id": "0r2kOyXjFd93"
      }
    },
    {
      "cell_type": "markdown",
      "source": [
        "## MCQ 3: Missing Values\n",
        "\n",
        "**Question: Which column had the highest number of missing values?**\n",
        "\n",
        "A) Age  \n",
        "B) Embarked  \n",
        "C) Fare  \n",
        "D) Cabin"
      ],
      "metadata": {
        "id": "lBV03_OouLhs"
      }
    },
    {
      "cell_type": "code",
      "source": [
        "df.info()"
      ],
      "metadata": {
        "id": "6tQ-561a00IG",
        "colab": {
          "base_uri": "https://localhost:8080/"
        },
        "outputId": "c5811af6-fa4b-4671-bc1d-619d2d1e3ff5"
      },
      "execution_count": null,
      "outputs": [
        {
          "output_type": "stream",
          "name": "stdout",
          "text": [
            "<class 'pandas.core.frame.DataFrame'>\n",
            "RangeIndex: 891 entries, 0 to 890\n",
            "Data columns (total 12 columns):\n",
            " #   Column       Non-Null Count  Dtype  \n",
            "---  ------       --------------  -----  \n",
            " 0   PassengerId  891 non-null    int64  \n",
            " 1   Survived     891 non-null    int64  \n",
            " 2   Pclass       891 non-null    int64  \n",
            " 3   Name         891 non-null    object \n",
            " 4   Sex          891 non-null    object \n",
            " 5   Age          714 non-null    float64\n",
            " 6   SibSp        891 non-null    int64  \n",
            " 7   Parch        891 non-null    int64  \n",
            " 8   Ticket       891 non-null    object \n",
            " 9   Fare         891 non-null    float64\n",
            " 10  Cabin        204 non-null    object \n",
            " 11  Embarked     889 non-null    object \n",
            "dtypes: float64(2), int64(5), object(5)\n",
            "memory usage: 83.7+ KB\n"
          ]
        }
      ]
    },
    {
      "cell_type": "markdown",
      "source": [
        "Out of 891 rows, Cabin has only 204 non-null values."
      ],
      "metadata": {
        "id": "W8PvvJrOl2cE"
      }
    },
    {
      "cell_type": "markdown",
      "source": [
        "## Instructions for Handling Missing Values\n",
        "\n",
        "Follow below instructions for handling missing values in the following columns:\n",
        "\n",
        "\n",
        "*   `Age`: Impute the missing values using the median age of the dataset.\n",
        "*   `Cabin`: Drop the entire column, as a large portion of the data is missing.\n",
        "*   `Embarked`: Impute the missing values using the mode (most frequent value) of the column.\n",
        "\n",
        "**Note:** Strictly adhere to the above instructions when handling missing values, as subsequent questions will be based on the dataset after these transformations."
      ],
      "metadata": {
        "id": "HUE8KQSjBc13"
      }
    },
    {
      "cell_type": "code",
      "source": [
        "df[\"Age\"]=df[\"Age\"].fillna(df[\"Age\"].median())"
      ],
      "metadata": {
        "id": "GMKMJDOSDRFc"
      },
      "execution_count": null,
      "outputs": []
    },
    {
      "cell_type": "code",
      "source": [
        "df=df.drop(\"Cabin\",axis=1)"
      ],
      "metadata": {
        "id": "WKDldHACE1iL"
      },
      "execution_count": null,
      "outputs": []
    },
    {
      "cell_type": "code",
      "source": [
        "df[\"Embarked\"]=df[\"Embarked\"].fillna(df[\"Embarked\"].mode()[0])"
      ],
      "metadata": {
        "id": "9NWxkl5XE1rk"
      },
      "execution_count": null,
      "outputs": []
    },
    {
      "cell_type": "code",
      "source": [
        "df.info()"
      ],
      "metadata": {
        "id": "laWmFKFTFCsU",
        "colab": {
          "base_uri": "https://localhost:8080/"
        },
        "outputId": "e4cd8f83-b543-4cc3-ec0f-cd7bed540c5e"
      },
      "execution_count": null,
      "outputs": [
        {
          "output_type": "stream",
          "name": "stdout",
          "text": [
            "<class 'pandas.core.frame.DataFrame'>\n",
            "RangeIndex: 891 entries, 0 to 890\n",
            "Data columns (total 11 columns):\n",
            " #   Column       Non-Null Count  Dtype  \n",
            "---  ------       --------------  -----  \n",
            " 0   PassengerId  891 non-null    int64  \n",
            " 1   Survived     891 non-null    int64  \n",
            " 2   Pclass       891 non-null    int64  \n",
            " 3   Name         891 non-null    object \n",
            " 4   Sex          891 non-null    object \n",
            " 5   Age          891 non-null    float64\n",
            " 6   SibSp        891 non-null    int64  \n",
            " 7   Parch        891 non-null    int64  \n",
            " 8   Ticket       891 non-null    object \n",
            " 9   Fare         891 non-null    float64\n",
            " 10  Embarked     891 non-null    object \n",
            "dtypes: float64(2), int64(5), object(4)\n",
            "memory usage: 76.7+ KB\n"
          ]
        }
      ]
    },
    {
      "cell_type": "markdown",
      "source": [
        "## MCQ 4: Identifying Columns with the Wrongly Assigned Category Type\n",
        "**Question:**\n",
        "\n",
        "Which of the following columns are incorrectly assigned as numerical types and should be treated as categorical variables?\n",
        "\n",
        "A) Fare\n",
        "\n",
        "B) PassengerId\n",
        "\n",
        "C) Pclass\n",
        "\n",
        "D) Age\n"
      ],
      "metadata": {
        "id": "aQTqDrghiEEI"
      }
    },
    {
      "cell_type": "code",
      "source": [
        "def changeTostr(x):\n",
        "  if x==1:\n",
        "    return 'Upper Class'\n",
        "  if x==2:\n",
        "    return 'Middle Class'\n",
        "  if(x==3):\n",
        "    return 'Lower Class'\n",
        "df['Pclass']=df['Pclass'].apply(changeTostr)"
      ],
      "metadata": {
        "id": "b84Q6g9PiOkU"
      },
      "execution_count": null,
      "outputs": []
    },
    {
      "cell_type": "markdown",
      "source": [
        "It is mentioned above that '1' means 'Upper Class', '2' means 'Middle Class' and '3' means 'Lower Class' so we convert it into categorical data which makes it easier to read."
      ],
      "metadata": {
        "id": "Wa9kdKs1GBVn"
      }
    },
    {
      "cell_type": "code",
      "source": [
        "df.info()"
      ],
      "metadata": {
        "id": "5Laov5adp8Hg",
        "colab": {
          "base_uri": "https://localhost:8080/"
        },
        "outputId": "74579143-f024-461d-f0cf-b3098378d22c"
      },
      "execution_count": null,
      "outputs": [
        {
          "output_type": "stream",
          "name": "stdout",
          "text": [
            "<class 'pandas.core.frame.DataFrame'>\n",
            "RangeIndex: 891 entries, 0 to 890\n",
            "Data columns (total 11 columns):\n",
            " #   Column       Non-Null Count  Dtype  \n",
            "---  ------       --------------  -----  \n",
            " 0   PassengerId  891 non-null    int64  \n",
            " 1   Survived     891 non-null    int64  \n",
            " 2   Pclass       891 non-null    object \n",
            " 3   Name         891 non-null    object \n",
            " 4   Sex          891 non-null    object \n",
            " 5   Age          891 non-null    float64\n",
            " 6   SibSp        891 non-null    int64  \n",
            " 7   Parch        891 non-null    int64  \n",
            " 8   Ticket       891 non-null    object \n",
            " 9   Fare         891 non-null    float64\n",
            " 10  Embarked     891 non-null    object \n",
            "dtypes: float64(2), int64(4), object(5)\n",
            "memory usage: 76.7+ KB\n"
          ]
        }
      ]
    },
    {
      "cell_type": "markdown",
      "source": [
        "Now that data pre-processing is complete, proceed to analyze the different factors that impacted passenger survival rates by creating visualizations. These visualizations will help identify patterns and insights into how variables such as age, sex, fare, embarkation point, passenger class, and family size influenced the likelihood of survival."
      ],
      "metadata": {
        "id": "wyik6dGpp_c5"
      }
    },
    {
      "cell_type": "markdown",
      "source": [
        "\n",
        "## MCQ 5: Age Distribution and Survival\n",
        "\n",
        "**Question:**  \n",
        "Create a histogram to examine the relationship between `Age` and survival rates in the Titanic disaster.  \n",
        "- The X-axis should represent age groups.\n",
        "- The Y-axis should represent the survival rate.\n",
        "\n",
        "**Based on the visualization, what can be concluded about the relationship between age and survival rate?**\n",
        "\n",
        "A) Older passengers had higher survival rates.  \n",
        "B) Younger passengers, particularly children, had higher survival rates.  \n",
        "C) There was no clear trend between age and survival.  \n",
        "D) Middle-aged passengers had the highest survival rate.\n"
      ],
      "metadata": {
        "id": "i3wN5GUru7HD"
      }
    },
    {
      "cell_type": "markdown",
      "source": [
        "- We calculate the survival rate by age group as = (Count of no. of 1s)/(No. of people)*100\n",
        "\n",
        "- Count of no. of 1s would simply be the sum as the no.of 0s won't be counted.\n",
        "\n",
        "- Keep no. of bins as 20."
      ],
      "metadata": {
        "id": "IayDQKyFmwUT"
      }
    },
    {
      "cell_type": "code",
      "source": [
        "gk=df[[\"Age\",\"Survived\"]].groupby('Age')['Survived'].apply(lambda x: (x.sum() / len(x)) * 100)\n",
        "plt.hist(gk,bins=20)"
      ],
      "metadata": {
        "id": "YzYCQ0HjuoRJ",
        "colab": {
          "base_uri": "https://localhost:8080/",
          "height": 517
        },
        "outputId": "0fd441fa-ceca-4b01-9ae7-fbd2e6c834d8"
      },
      "execution_count": null,
      "outputs": [
        {
          "output_type": "execute_result",
          "data": {
            "text/plain": [
              "(array([23.,  0.,  1.,  1.,  3.,  5.,  7.,  4.,  6.,  5., 12.,  0.,  3.,\n",
              "         3.,  2.,  0.,  2.,  0.,  0., 11.]),\n",
              " array([  0.,   5.,  10.,  15.,  20.,  25.,  30.,  35.,  40.,  45.,  50.,\n",
              "         55.,  60.,  65.,  70.,  75.,  80.,  85.,  90.,  95., 100.]),\n",
              " <BarContainer object of 20 artists>)"
            ]
          },
          "metadata": {},
          "execution_count": 13
        },
        {
          "output_type": "display_data",
          "data": {
            "text/plain": [
              "<Figure size 640x480 with 1 Axes>"
            ],
            "image/png": "[encoded data removed]"
          },
          "metadata": {}
        }
      ]
    },
    {
      "cell_type": "markdown",
      "source": [
        "We calculate the survival rate by age by (count of No.of 1s in survived column / Total No. of People)*100. Count of no.of 1s would simply be the sum as the No.of 0s as 0s won't be counted while calculating the sum and no. of people would be the length of the array for the particular age as the group by function returns an array of the survived column for every age."
      ],
      "metadata": {
        "id": "vcFb5qZ4Gf_b"
      }
    },
    {
      "cell_type": "markdown",
      "source": [
        "## MCQ 6: Survival Rate - Men vs Women\n",
        "**Question:**\n",
        "\n",
        "Create a visualization to examine the relationship between sex and survival rates in the Titanic disaster.\n",
        "\n",
        "*   The X-axis should represent sex.\n",
        "*   The Y-axis should represent survival rate.\n",
        "\n",
        "**Based on the visualization, which statement best describes the relationship between sex and survival rate?**\n",
        "\n",
        "A) Men had a higher survival rate than women.\n",
        "\n",
        "B) Women had a higher survival rate than men.\n",
        "\n",
        "C) Men and women had nearly equal survival rates.\n",
        "\n",
        "D) Sex did not affect survival rates.\n"
      ],
      "metadata": {
        "id": "JqH6ehTDuv-y"
      }
    },
    {
      "cell_type": "code",
      "source": [
        "gk=df[['Sex', 'Survived']].groupby('Sex', as_index = False).apply(lambda x: (x.sum() / len(x)) * 100)\n",
        "plt.figure(figsize=(6, 6))\n",
        "plt.bar(gk['Sex'], gk['Survived'])\n",
        "plt.xlabel('Sex')\n",
        "plt.ylabel('Survival Rate')\n",
        "plt.title('Survived Percentage by Sex')\n",
        "plt.show()"
      ],
      "metadata": {
        "id": "aTwKIxr2vCuR",
        "colab": {
          "base_uri": "https://localhost:8080/",
          "height": 564
        },
        "outputId": "206db142-3c7b-4b46-bb68-c82519812c36"
      },
      "execution_count": null,
      "outputs": [
        {
          "output_type": "display_data",
          "data": {
            "text/plain": [
              "<Figure size 600x600 with 1 Axes>"
            ],
            "image/png": "[encoded data removed]"
          },
          "metadata": {}
        }
      ]
    },
    {
      "cell_type": "markdown",
      "source": [
        "Similarly, for the above question, we calculate the survival rate by 'gender' and then plot the bar plot for visualisation."
      ],
      "metadata": {
        "id": "pa0w9lB8HGPc"
      }
    },
    {
      "cell_type": "markdown",
      "source": [
        "\n",
        "## MCQ 7: Embarkation Point and Survival\n",
        "\n",
        "**Question:**  \n",
        "Create a visualization to examine the relationship between `Embarked` (port of embarkation) and survival rates.  \n",
        "- The X-axis should represent the embarkation points.\n",
        "- The Y-axis should represent survival rate.\n",
        "\n",
        "**Based on the visualization, what conclusion can be made about the survival rate based on embarkation point?** (Select all that apply)\n",
        "\n",
        "A) Passengers from Southampton had the lowest survival rate.  \n",
        "B) Passengers from Cherbourg had the highest survival rate.  \n",
        "C) Passengers from Queenstown had the highest survival rate.  \n",
        "D) There was no significant difference based on embarkation point.\n"
      ],
      "metadata": {
        "id": "-FUvBDes3W8N"
      }
    },
    {
      "cell_type": "code",
      "source": [
        "gk=df[['Embarked', 'Survived']].groupby(['Embarked'],as_index=False).apply(lambda x: (x.sum() / len(x)) * 100)\n",
        "plt.figure(figsize=(8, 6))\n",
        "plt.bar(gk['Embarked'], gk['Survived'])\n",
        "plt.xlabel('Embarked')\n",
        "plt.ylabel('Survival Rate')\n",
        "plt.title('Survived Percentage by Embarked')\n",
        "plt.show()"
      ],
      "metadata": {
        "id": "3-PqQHjT00Va",
        "colab": {
          "base_uri": "https://localhost:8080/",
          "height": 564
        },
        "outputId": "72de3eb1-c46d-41d0-9a10-2b35d641b1da"
      },
      "execution_count": null,
      "outputs": [
        {
          "output_type": "display_data",
          "data": {
            "text/plain": [
              "<Figure size 800x600 with 1 Axes>"
            ],
            "image/png": "[encoded data removed]"
          },
          "metadata": {}
        }
      ]
    },
    {
      "cell_type": "markdown",
      "source": [
        "Similarly, for the above question, we calculate the survival rate by 'embarked' and then plot the bar plot for visualisation."
      ],
      "metadata": {
        "id": "n1HcYVgRHazC"
      }
    },
    {
      "cell_type": "markdown",
      "source": [
        "\n",
        "## MCQ 8: Family Size and Survival\n",
        "\n",
        "**Question:**  \n",
        "Create a visualization to examine the relationship between family size (number of family members onboard) and survival rates in the Titanic disaster.  \n",
        "- The X-axis should represent family size (calculated as `SibSp + Parch + 1`).\n",
        "- The Y-axis should represent survival rate.\n",
        "\n",
        "**Based on the visualization, which statement best describes the relationship between family size and survival rate?**\n",
        "\n",
        "A) Larger family sizes are associated with higher survival rates.  \n",
        "B) Larger family sizes are associated with lower survival rates.  \n",
        "C) Family size has no significant impact on survival rates.  \n",
        "D) Survival rates are equally distributed across all family sizes.\n"
      ],
      "metadata": {
        "id": "ZgqKZREs3acH"
      }
    },
    {
      "cell_type": "code",
      "source": [
        "df['Family_Size']=df['SibSp'] + df['Parch'] + 1\n",
        "gk=df[['Family_Size', 'Survived']].groupby('Family_Size',as_index=False)['Survived'].apply(lambda x: (x.sum() / len(x)) * 100)\n",
        "gk\n",
        "plt.figure(figsize=(10, 6))\n",
        "plt.bar(gk['Family_Size'], gk['Survived'])\n",
        "plt.xlabel('Family Size')\n",
        "plt.ylabel('Survival Rate')\n",
        "plt.title('Survived Percentage by Family Size')\n",
        "plt.xticks(gk['Family_Size'])\n",
        "plt.show()\n"
      ],
      "metadata": {
        "id": "JgzRMu1X3a_x",
        "colab": {
          "base_uri": "https://localhost:8080/",
          "height": 564
        },
        "outputId": "90e489b7-14ff-480d-b976-1a16a370ae50"
      },
      "execution_count": null,
      "outputs": [
        {
          "output_type": "display_data",
          "data": {
            "text/plain": [
              "<Figure size 1000x600 with 1 Axes>"
            ],
            "image/png": "[encoded data removed]"
          },
          "metadata": {}
        }
      ]
    },
    {
      "cell_type": "markdown",
      "source": [
        "We calculate the family size using formula, family size = Sibsp + Parch + 1. <br>\n",
        "Then we calculate survival rate based on family size and plot a bar graph for visualisation."
      ],
      "metadata": {
        "id": "9wXloEwuHj4h"
      }
    }
  ]
}